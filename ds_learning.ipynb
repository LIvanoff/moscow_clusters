{
  "nbformat": 4,
  "nbformat_minor": 0,
  "metadata": {
    "colab": {
      "provenance": [],
      "collapsed_sections": [],
      "include_colab_link": true
    },
    "kernelspec": {
      "name": "python3",
      "display_name": "Python 3"
    },
    "language_info": {
      "name": "python"
    }
  },
  "cells": [
    {
      "cell_type": "markdown",
      "metadata": {
        "id": "view-in-github",
        "colab_type": "text"
      },
      "source": [
        "<a href=\"https://colab.research.google.com/github/LIvanoff/moscow_clusters/blob/main/ds_learning.ipynb\" target=\"_parent\"><img src=\"https://colab.research.google.com/assets/colab-badge.svg\" alt=\"Open In Colab\"/></a>"
      ]
    },
    {
      "cell_type": "code",
      "source": [
        "!pip install shapely"
      ],
      "metadata": {
        "id": "3dpWjTX1DmL2",
        "outputId": "867b085e-be59-431e-f97e-e671aab4d3b9",
        "colab": {
          "base_uri": "https://localhost:8080/"
        }
      },
      "execution_count": null,
      "outputs": [
        {
          "output_type": "stream",
          "name": "stdout",
          "text": [
            "Looking in indexes: https://pypi.org/simple, https://us-python.pkg.dev/colab-wheels/public/simple/\n",
            "Requirement already satisfied: shapely in /usr/local/lib/python3.7/dist-packages (1.8.5.post1)\n"
          ]
        }
      ]
    },
    {
      "cell_type": "code",
      "execution_count": 1285,
      "metadata": {
        "id": "kynnGI8qCgG9"
      },
      "outputs": [],
      "source": [
        "num_apartment = []\n",
        "num_obj = []\n",
        "med_coverage_per = []\n",
        "cluster = []\n",
        "square = []"
      ]
    },
    {
      "cell_type": "code",
      "source": [
        "df = pd.read_excel('dataset.xlsx')"
      ],
      "metadata": {
        "id": "5JTKCgtIL6Yb"
      },
      "execution_count": 410,
      "outputs": []
    },
    {
      "cell_type": "code",
      "source": [
        "%%time\n",
        "address = df['address'].to_numpy()"
      ],
      "metadata": {
        "colab": {
          "base_uri": "https://localhost:8080/"
        },
        "id": "JTlKpLWhYY1q",
        "outputId": "e94a9c96-b17f-4cad-f33f-906eaf868208"
      },
      "execution_count": 418,
      "outputs": [
        {
          "output_type": "stream",
          "name": "stdout",
          "text": [
            "CPU times: user 4.8 ms, sys: 1 ms, total: 5.8 ms\n",
            "Wall time: 5.74 ms\n"
          ]
        }
      ]
    },
    {
      "cell_type": "code",
      "source": [
        "import numpy as np\n",
        "import matplotlib.pyplot as plt\n",
        "import json\n",
        "from sklearn.cluster import KMeans\n",
        "from shapely.geometry import Point\n",
        "from shapely.geometry.polygon import Polygon\n",
        "from geopy.distance import great_circle as GC\n",
        "import pandas as pd\n",
        "import math\n",
        "\n",
        "\n",
        "\n",
        "with open(\"./data (11).geojson\", \"r\") as file_json:\n",
        "    study_area = json.load(file_json)\n",
        "    #print(json.dumps(study_area, indent=4))\n",
        "\n",
        "coordinates = []\n",
        "for i in study_area['features'][0]['geometry']['coordinates'][0]:\n",
        "    coordinates.append(i)\n",
        "\n",
        "coordinates.pop(-1)\n",
        "\n",
        "latlong = []\n",
        "latitude = df['latitude'].to_numpy()\n",
        "longitude = df['longitude'].to_numpy()\n",
        "residents = df['apartment'].to_numpy()\n",
        "index_list = []\n",
        "sum_residents = 0\n",
        "\n",
        "for i in range(1,len(df)):\n",
        "    point = Point(longitude[i], latitude[i])\n",
        "    polygon = Polygon(coordinates)\n",
        "    if polygon.contains(point) == True:\n",
        "      latlong.append([longitude[i],latitude[i]])\n",
        "      index_list.append(i)\n",
        "      if df.loc[i,'type'] == 'Жилой дом':\n",
        "        sum_residents += residents[i]\n",
        "\n",
        "\n",
        "\n",
        "np_latlong = np.asarray(latlong)\n",
        "X = np.vstack(np_latlong)\n",
        "\n",
        "#n_clusters # было раньше int((sum_residents)/1500)\n",
        "################################################################################\n",
        "k_means = KMeans(n_clusters = 3)\n",
        "################################################################################\n",
        "moskva = k_means.fit_predict(X)\n",
        "\n",
        "house_dict = {}\n",
        "\n",
        "for i in range(0,k_means.n_clusters):\n",
        "  house_dict[i] = []\n",
        "  count = 0\n",
        "  for j in range(0,len(moskva)):\n",
        "    if moskva[j] == i:\n",
        "      count +=1\n",
        "  house_dict[i].append(count)\n",
        "\n",
        "weights = []\n",
        "\n",
        "for i in index_list:\n",
        "  if df.loc[i,'type'] == 'Жилой дом':\n",
        "    if 40 < df.loc[i,'apartment'] <= 80:\n",
        "      weights.append(2)\n",
        "    elif 80 < df.loc[i,'apartment'] <= 160:\n",
        "      weights.append(3)\n",
        "    elif df.loc[i,'apartment'] <= 40:\n",
        "      weights.append(1)\n",
        "    elif 160 < df.loc[i,'apartment'] <= 160:\n",
        "      weights.append(3)\n",
        "    elif df.loc[i,'apartment'] <= 40:\n",
        "      weights.append(1)\n",
        "    elif 160 < df.loc[i,'apartment'] <= 200:\n",
        "      weights.append(4)\n",
        "    if 200 < df.loc[i,'apartment']:\n",
        "      weights.append(5)\n",
        "  elif df.loc[i, 'type'] == 'Постамат':\n",
        "    weights.append(7)\n",
        "  elif df.loc[i,'type'] == 'киоск' or df.loc[i,'type'] == 'пресс-стенд':\n",
        "    weights.append(10)\n",
        "  elif df.loc[i, 'type'] == 'Спортивный объект':\n",
        "    weights.append(6)\n",
        "  elif df.loc[i, 'type'] == 'МФЦ' or df.loc[i, 'type'] == 'Флагманский офис':\n",
        "    weights.append(8)\n",
        "\n",
        "sum_weights = []\n",
        "for i in range(0,k_means.n_clusters):\n",
        "  sum = 0\n",
        "  for j in range(0, len(index_list)):\n",
        "    if moskva[j] == i:\n",
        "      sum += weights[j]\n",
        "  sum_weights.append(sum)\n",
        "\n",
        "latitude_postamate = []\n",
        "longitude_postamate = []\n",
        "latitude_sum = 0\n",
        "longitude_sum = 0\n",
        "\n",
        "for i in range(0,k_means.n_clusters):\n",
        "  for j in range(0, len(index_list)):\n",
        "    if moskva[j] == i:\n",
        "      latitude_sum += (weights[j]*latitude[index_list[j]])/sum_weights[i]\n",
        "      longitude_sum += (weights[j]*longitude[index_list[j]])/sum_weights[i]\n",
        "  latitude_postamate.append(latitude_sum)\n",
        "  longitude_postamate.append(longitude_sum)\n",
        "  latitude_sum = 0\n",
        "  longitude_sum = 0\n",
        "\n",
        "\n",
        "new_latlong = []\n",
        "for i in range(0,len(longitude_postamate)):\n",
        "  near_point = 1 # 1 km\n",
        "  better_long = latitude_postamate[i]\n",
        "  better_lat = longitude_postamate[i]\n",
        "  for j in range(0,len(moskva)):\n",
        "    if moskva[j] == i:\n",
        "      a = (latitude_postamate[i], longitude_postamate[i])\n",
        "      b = (latitude[index_list[j]], longitude[index_list[j]])\n",
        "      if GC(a,b) < near_point:\n",
        "        near_point = GC(a,b)\n",
        "        better_lat = latitude[index_list[j]]\n",
        "        better_long = longitude[index_list[j]]\n",
        "  latitude_postamate[i] = better_lat\n",
        "  longitude_postamate[i] = better_long\n",
        "  new_latlong.append([longitude_postamate[i],latitude_postamate[i]])\n",
        "\n",
        "ratings = []\n",
        "\n",
        "######################  ЭТО ДЕЛАЛ ВЛАД #######################################\n",
        "ratings = []\n",
        "_dict = {}\n",
        "for i in range(len(moskva)):\n",
        "  _dict[str(moskva[i])] = []\n",
        "\n",
        "for i in range(0,len(longitude_postamate)):\n",
        "  for j in range(0,len(moskva)):\n",
        "    if moskva[j] == i:\n",
        "      _dict[str(moskva[j])].append(j)\n",
        "\n",
        "\n",
        "for z in range(0,len(longitude_postamate)):\n",
        "  rating = 0.0\n",
        "  count = 0.0\n",
        "  for i in range(len(_dict[str(z)])):\n",
        "    x = latitude[index_list[_dict[str(z)][i]]] * 111\n",
        "    y = longitude[index_list[_dict[str(z)][i]]] * 71\n",
        "\n",
        "    x0 = latitude_postamate[z] * 111\n",
        "    y0 = longitude_postamate[z] * 71\n",
        "\n",
        "    R = 0.400\n",
        "    \n",
        "    if ((x - x0)**2 + (y - y0)**2 <= R**2):\n",
        "      count += 1\n",
        "  rating = count / len(_dict[str(z)])\n",
        "  ratings.append(rating)\n",
        "print(ratings)\n",
        "##############################################################################\n",
        "sum_rat = math.fsum(ratings)\n",
        "sum_rat  /=len(ratings)\n",
        "\n",
        "\n",
        "new_np_latlong = np.asarray(new_latlong)\n",
        "new_X = np.vstack(new_np_latlong)\n",
        "\n",
        "fig, axs = plt.subplots(1, 3, figsize=(20,6))\n",
        "axs[0].scatter(X[:, 0], X[:, 1], marker='o')\n",
        "axs[1].scatter(X[:, 0], X[:, 1], c=moskva)\n",
        "axs[2].scatter(X[:,0],X[:,1], marker='o')\n",
        "axs[2].scatter(new_X[:,0],new_X[:,1], marker='o')\n",
        "\n"
      ],
      "metadata": {
        "colab": {
          "base_uri": "https://localhost:8080/",
          "height": 420
        },
        "id": "PbYlS6MrDEvU",
        "outputId": "fdfcbcf9-e000-4031-a902-6145c92a7e8e"
      },
      "execution_count": 1358,
      "outputs": [
        {
          "output_type": "stream",
          "name": "stdout",
          "text": [
            "[1.0, 1.0, 1.0]\n"
          ]
        },
        {
          "output_type": "execute_result",
          "data": {
            "text/plain": [
              "<matplotlib.collections.PathCollection at 0x7fb6532ee9d0>"
            ]
          },
          "metadata": {},
          "execution_count": 1358
        },
        {
          "output_type": "display_data",
          "data": {
            "text/plain": [
              "<Figure size 1440x432 with 3 Axes>"
            ],
            "image/png": "[encoded data removed]"
          },
          "metadata": {
            "needs_background": "light"
          }
        }
      ]
    },
    {
      "cell_type": "code",
      "source": [
        "residents[i]"
      ],
      "metadata": {
        "colab": {
          "base_uri": "https://localhost:8080/",
          "height": 35
        },
        "id": "a2GvluoE5iLE",
        "outputId": "e60dd3d7-7005-4a08-f81f-a2c5004f9b6f"
      },
      "execution_count": 987,
      "outputs": [
        {
          "output_type": "execute_result",
          "data": {
            "text/plain": [
              "'6\\xa0'"
            ],
            "application/vnd.google.colaboratory.intrinsic+json": {
              "type": "string"
            }
          },
          "metadata": {},
          "execution_count": 987
        }
      ]
    },
    {
      "cell_type": "code",
      "source": [
        "num_apartment.append(sum_residents)\n",
        "num_obj.append(len(index_list))\n",
        "med_coverage_per.append(sum_rat)\n",
        "cluster.append(k_means.n_clusters)\n",
        "square.append(polygon.area)"
      ],
      "metadata": {
        "id": "eQTTqQX3DwvB"
      },
      "execution_count": 1359,
      "outputs": []
    },
    {
      "cell_type": "code",
      "source": [
        "sum_residents"
      ],
      "metadata": {
        "colab": {
          "base_uri": "https://localhost:8080/"
        },
        "id": "40tRmDw8-cGY",
        "outputId": "52bae3a1-0969-490b-a2c1-7f79abebd435"
      },
      "execution_count": 1360,
      "outputs": [
        {
          "output_type": "execute_result",
          "data": {
            "text/plain": [
              "9308"
            ]
          },
          "metadata": {},
          "execution_count": 1360
        }
      ]
    },
    {
      "cell_type": "code",
      "source": [
        "print(num_apartment)\n",
        "print(num_obj)\n",
        "print(med_coverage_per)\n",
        "print(cluster)\n",
        "print(square)"
      ],
      "metadata": {
        "colab": {
          "base_uri": "https://localhost:8080/"
        },
        "id": "0ffSg1AIDzf7",
        "outputId": "09e2c016-571a-459d-d62d-a3dfa94db3fe"
      },
      "execution_count": 1361,
      "outputs": [
        {
          "output_type": "stream",
          "name": "stdout",
          "text": [
            "[6676, 12367, 9898, 3242, 19005, 11518, 4301, 3468, 1231, 19455, 9308]\n",
            "[25, 114, 48, 52, 95, 62, 42, 113, 42, 157, 73]\n",
            "[1.0, 1.0, 1.0, 1.0, 1.0, 1.0, 1.0, 1.0, 1.0, 1.0, 1.0]\n",
            "[3, 7, 5, 4, 8, 6, 2, 6, 2, 9, 3]\n",
            "[7.226809150001364e-05, 0.0001352118580000111, 0.00010998526449998451, 5.4698484999988654e-05, 0.00015413807250007764, 0.00013801813499992872, 6.56896244999886e-05, 0.000125582751000034, 4.5578996000009854e-05, 0.00021004705650000052, 8.426683249996771e-05]\n"
          ]
        }
      ]
    },
    {
      "cell_type": "code",
      "source": [
        "data = {'number place': [],'apartments': [], 'square' : [], 'med coverage per' : [], 'clusters' :[]}\n",
        "data_for_learning = pd.DataFrame(data)\n",
        "data_for_learning['number place'] = num_obj\n",
        "data_for_learning['apartments'] = num_apartment\n",
        "data_for_learning['square'] = square\n",
        "data_for_learning['med coverage per'] = med_coverage_per\n",
        "data_for_learning['clusters'] = cluster\n",
        "data_for_learning.to_excel('y_test3.xlsx') # data_05_01_36"
      ],
      "metadata": {
        "id": "dYnufgKXEwyf"
      },
      "execution_count": 1362,
      "outputs": []
    },
    {
      "cell_type": "markdown",
      "source": [
        "#**ОБУЧЕНИЕ МОДЕЛИ**\n",
        "\n",
        "---"
      ],
      "metadata": {
        "id": "wCfdnzXp7STY"
      }
    },
    {
      "cell_type": "code",
      "source": [
        "from sklearn.linear_model import Ridge, LinearRegression, Lasso\n",
        "from sklearn.metrics import mean_squared_error, r2_score"
      ],
      "metadata": {
        "id": "-j3l4Q3BqdF_"
      },
      "execution_count": null,
      "outputs": []
    },
    {
      "cell_type": "code",
      "source": [
        "df_train = pd.read_excel('data_for_learning_v16.xlsx')\n",
        "df_test = pd.read_excel('test4.xlsx')\n",
        "num_place = df_test['number place']"
      ],
      "metadata": {
        "id": "CmEVSMD4lifl"
      },
      "execution_count": 1364,
      "outputs": []
    },
    {
      "cell_type": "code",
      "source": [
        "df_test = pd.read_excel('test.xlsx')"
      ],
      "metadata": {
        "id": "AqfFzcT42FrF"
      },
      "execution_count": 579,
      "outputs": []
    },
    {
      "cell_type": "code",
      "source": [
        "y_train = np.array(df_train['clusters'])\n",
        "X_train = df_train[['number place','apartments','square']].to_numpy() # \n",
        "\n",
        "\n",
        "y_train = y_train.reshape(-1, 1)\n",
        "X_test = df_test[['number place','apartments','square']].to_numpy() # \n",
        "X_test = X_test.reshape(43, 3)\n",
        "y_test = np.array(df_test['clusters'])\n",
        "y_test = y_test.reshape(-1, 1)"
      ],
      "metadata": {
        "id": "zyKynyjJp1Q1"
      },
      "execution_count": 1369,
      "outputs": []
    },
    {
      "cell_type": "markdown",
      "source": [
        "**Обучение с помощью линейной регресии**"
      ],
      "metadata": {
        "id": "OEdej1NXBwa-"
      }
    },
    {
      "cell_type": "code",
      "source": [
        "lin_regres = LinearRegression().fit(X_train, y_train)\n",
        "y_pred_lin_regres = lin_regres.predict(X_test)\n",
        "\n",
        "for i in range(len(y_pred_lin_regres )):\n",
        "  print('Предсказание: '+str(y_pred_lin_regres [i])+' Реальность: '+str(y_test[i]))\n",
        "  \n",
        "print('Коэффициенты:', lin_regres.coef_)# Ожидаемое среднее значение y, когда все X = 0\n",
        "print('Средняя квадратичная ошибка (MSE): %.2f'% mean_squared_error(lin_regres.predict(X_test), y_test))"
      ],
      "metadata": {
        "colab": {
          "base_uri": "https://localhost:8080/"
        },
        "id": "PST7AaL3AmlN",
        "outputId": "cc52f2fd-67aa-4b68-b1f1-19bf0baa8a24"
      },
      "execution_count": 1278,
      "outputs": [
        {
          "output_type": "stream",
          "name": "stdout",
          "text": [
            "Предсказание: [17.62352168] Реальность: [20]\n",
            "Предсказание: [9.96710752] Реальность: [9]\n",
            "Предсказание: [46.86686267] Реальность: [55]\n",
            "Предсказание: [9.10839896] Реальность: [8]\n",
            "Предсказание: [19.09304881] Реальность: [16]\n",
            "Предсказание: [11.68183735] Реальность: [14]\n",
            "Предсказание: [14.30899649] Реальность: [14]\n",
            "Предсказание: [13.87420067] Реальность: [14]\n",
            "Предсказание: [21.24205465] Реальность: [14]\n",
            "Предсказание: [2.90382015] Реальность: [1]\n",
            "Предсказание: [8.97049464] Реальность: [9]\n",
            "Предсказание: [9.1561052] Реальность: [10]\n",
            "Предсказание: [62.50916291] Реальность: [70]\n",
            "Предсказание: [5.14092332] Реальность: [2]\n",
            "Предсказание: [1.9940481] Реальность: [1]\n",
            "Предсказание: [3.74154069] Реальность: [2]\n",
            "Предсказание: [9.35834243] Реальность: [8]\n",
            "Предсказание: [2.63367223] Реальность: [2]\n",
            "Предсказание: [4.73845775] Реальность: [4]\n",
            "Предсказание: [5.58371931] Реальность: [5]\n",
            "Предсказание: [12.15410928] Реальность: [7]\n",
            "Предсказание: [10.33158743] Реальность: [10]\n",
            "Предсказание: [8.48426266] Реальность: [6]\n",
            "Предсказание: [3.66079834] Реальность: [2]\n",
            "Предсказание: [6.14712745] Реальность: [5]\n",
            "Предсказание: [6.71815513] Реальность: [6]\n",
            "Предсказание: [3.3558378] Реальность: [2]\n",
            "Предсказание: [3.29521623] Реальность: [2]\n",
            "Предсказание: [3.73329724] Реальность: [4]\n",
            "Предсказание: [3.58310978] Реальность: [3]\n",
            "Предсказание: [4.03670583] Реальность: [4]\n",
            "Предсказание: [12.77028079] Реальность: [17]\n",
            "Коэффициенты: [[3.49753761e-02 1.58413433e-04 1.92366010e+03]]\n",
            "Средняя квадратичная ошибка (MSE): 8.69\n"
          ]
        }
      ]
    },
    {
      "cell_type": "markdown",
      "source": [
        "**Линейная регрессия с регуляризацией**"
      ],
      "metadata": {
        "id": "J266cYtMB2iL"
      }
    },
    {
      "cell_type": "code",
      "source": [
        "ridge = Ridge(alpha=100).fit(X_train, y_train)"
      ],
      "metadata": {
        "id": "qmVepLBL2QK4"
      },
      "execution_count": 1371,
      "outputs": []
    },
    {
      "cell_type": "code",
      "source": [
        "\n",
        "y_pred_ridge = ridge.predict(X_test)\n",
        "\n",
        "for i in range(len(y_pred_ridge)):\n",
        "  print('Предсказание: '+str(y_pred_ridge[i])+' Реальность: '+str(y_test[i]))\n",
        "  \n",
        "print('Коэффициенты:', ridge.coef_)# Ожидаемое среднее значение y, когда все X = 0\n",
        "print('Средняя квадратичная ошибка (MSE): %.2f'% mean_squared_error(ridge.predict(X_test), y_test))"
      ],
      "metadata": {
        "colab": {
          "base_uri": "https://localhost:8080/"
        },
        "id": "h_RjnZ666NpE",
        "outputId": "ab4878de-c4cd-423a-dcac-fa9bbe505197"
      },
      "execution_count": 1372,
      "outputs": [
        {
          "output_type": "stream",
          "name": "stdout",
          "text": [
            "Предсказание: [18.15787949] Реальность: [20]\n",
            "Предсказание: [9.92421957] Реальность: [9]\n",
            "Предсказание: [46.85247197] Реальность: [55]\n",
            "Предсказание: [9.19065534] Реальность: [8]\n",
            "Предсказание: [19.47464288] Реальность: [16]\n",
            "Предсказание: [11.93967273] Реальность: [14]\n",
            "Предсказание: [14.41154485] Реальность: [14]\n",
            "Предсказание: [14.01088329] Реальность: [14]\n",
            "Предсказание: [21.87073773] Реальность: [14]\n",
            "Предсказание: [2.68369991] Реальность: [1]\n",
            "Предсказание: [9.21219288] Реальность: [9]\n",
            "Предсказание: [9.14613919] Реальность: [10]\n",
            "Предсказание: [63.95515502] Реальность: [70]\n",
            "Предсказание: [5.04304062] Реальность: [2]\n",
            "Предсказание: [1.73060805] Реальность: [1]\n",
            "Предсказание: [3.57897346] Реальность: [2]\n",
            "Предсказание: [9.54055994] Реальность: [8]\n",
            "Предсказание: [2.39796556] Реальность: [2]\n",
            "Предсказание: [4.65217831] Реальность: [4]\n",
            "Предсказание: [5.51959491] Реальность: [5]\n",
            "Предсказание: [12.16698113] Реальность: [7]\n",
            "Предсказание: [10.54832588] Реальность: [10]\n",
            "Предсказание: [8.56225445] Реальность: [6]\n",
            "Предсказание: [3.45293868] Реальность: [2]\n",
            "Предсказание: [6.03002607] Реальность: [5]\n",
            "Предсказание: [6.89050039] Реальность: [6]\n",
            "Предсказание: [3.20888372] Реальность: [2]\n",
            "Предсказание: [3.16363073] Реальность: [2]\n",
            "Предсказание: [3.48380205] Реальность: [4]\n",
            "Предсказание: [3.29675353] Реальность: [3]\n",
            "Предсказание: [3.83245748] Реальность: [4]\n",
            "Предсказание: [12.65891812] Реальность: [17]\n",
            "Предсказание: [3.33842139] Реальность: [3]\n",
            "Предсказание: [7.69880187] Реальность: [7]\n",
            "Предсказание: [4.81028234] Реальность: [5]\n",
            "Предсказание: [3.64456967] Реальность: [4]\n",
            "Предсказание: [8.31503578] Реальность: [8]\n",
            "Предсказание: [5.63897467] Реальность: [6]\n",
            "Предсказание: [3.4892476] Реальность: [2]\n",
            "Предсказание: [5.90921961] Реальность: [6]\n",
            "Предсказание: [2.88442869] Реальность: [2]\n",
            "Предсказание: [10.66021132] Реальность: [9]\n",
            "Предсказание: [5.60393437] Реальность: [3]\n",
            "Коэффициенты: [[0.0363955  0.00019701 0.00080784]]\n",
            "Средняя квадратичная ошибка (MSE): 6.49\n"
          ]
        }
      ]
    },
    {
      "cell_type": "code",
      "source": [
        "y_pred_ridge[1]"
      ],
      "metadata": {
        "colab": {
          "base_uri": "https://localhost:8080/"
        },
        "id": "trimSX3qrp-z",
        "outputId": "fe872fc7-b154-44d3-e19b-f775654e5d4d"
      },
      "execution_count": null,
      "outputs": [
        {
          "output_type": "execute_result",
          "data": {
            "text/plain": [
              "array([9.16886812])"
            ]
          },
          "metadata": {},
          "execution_count": 33
        }
      ]
    },
    {
      "cell_type": "code",
      "source": [
        "y_train"
      ],
      "metadata": {
        "id": "VzdDsZ53uNAE"
      },
      "execution_count": null,
      "outputs": []
    },
    {
      "cell_type": "code",
      "source": [
        "X_train"
      ],
      "metadata": {
        "id": "L0R94O8ku8a8"
      },
      "execution_count": null,
      "outputs": []
    },
    {
      "cell_type": "code",
      "source": [
        "X_test"
      ],
      "metadata": {
        "colab": {
          "base_uri": "https://localhost:8080/"
        },
        "id": "Pe3bEcxPqi37",
        "outputId": "9080d0bd-c538-47a5-c8fe-6fa603f5e698"
      },
      "execution_count": null,
      "outputs": [
        {
          "output_type": "execute_result",
          "data": {
            "text/plain": [
              "array([[2.0654000e+04, 2.8700000e+02, 6.2327265e-04]])"
            ]
          },
          "metadata": {},
          "execution_count": 445
        }
      ]
    },
    {
      "cell_type": "code",
      "source": [
        "X_test"
      ],
      "metadata": {
        "colab": {
          "base_uri": "https://localhost:8080/"
        },
        "id": "p-NVcvYdrZkB",
        "outputId": "7a8471e2-5b31-4b41-8b8f-725a81ee81f9"
      },
      "execution_count": null,
      "outputs": [
        {
          "output_type": "execute_result",
          "data": {
            "text/plain": [
              "array([[1.24460000e+04, 1.50000000e+02, 2.08493739e-04]])"
            ]
          },
          "metadata": {},
          "execution_count": 274
        }
      ]
    },
    {
      "cell_type": "code",
      "source": [
        "plt.hist(y_test)"
      ],
      "metadata": {
        "colab": {
          "base_uri": "https://localhost:8080/",
          "height": 317
        },
        "id": "EOURGjjI0QSe",
        "outputId": "1ec6ffe6-5c45-4215-c5a8-8baf8dd8d336"
      },
      "execution_count": 1110,
      "outputs": [
        {
          "output_type": "execute_result",
          "data": {
            "text/plain": [
              "(array([17., 10.,  3.,  0.,  0.,  0.,  0.,  1.,  0.,  1.]),\n",
              " array([ 1. ,  7.9, 14.8, 21.7, 28.6, 35.5, 42.4, 49.3, 56.2, 63.1, 70. ]),\n",
              " <a list of 10 Patch objects>)"
            ]
          },
          "metadata": {},
          "execution_count": 1110
        },
        {
          "output_type": "display_data",
          "data": {
            "text/plain": [
              "<Figure size 432x288 with 1 Axes>"
            ],
            "image/png": "[encoded data removed]"
          },
          "metadata": {
            "needs_background": "light"
          }
        }
      ]
    },
    {
      "cell_type": "markdown",
      "source": [
        "**Лассо**"
      ],
      "metadata": {
        "id": "Fg99SlXICYVx"
      }
    },
    {
      "cell_type": "code",
      "source": [
        "lasso = Lasso(alpha=1.0, max_iter=100).fit(X_train, y_train)\n",
        "y_pred_lasso = lasso.predict(X_test)\n",
        "print(y_pred_lasso)\n",
        "print('Коэффициенты:', lasso.coef_)# Ожидаемое среднее значение y, когда все X = 0\n",
        "print('Средняя квадратичная ошибка (MSE): %.2f'% mean_squared_error(lasso.predict(X_test), y_test))"
      ],
      "metadata": {
        "colab": {
          "base_uri": "https://localhost:8080/"
        },
        "id": "L2z5APs4CZWL",
        "outputId": "3ad81ec9-09ca-4e5d-eb20-e605c9fd91f5"
      },
      "execution_count": 1024,
      "outputs": [
        {
          "output_type": "stream",
          "name": "stdout",
          "text": [
            "[17.92872787  9.87556844 46.09164608  9.12885432 19.22479408 11.83656162\n",
            " 11.83656162 14.3373762  13.89908895 21.57755539  2.74454716  9.08131073\n",
            "  9.07827103 62.79027709  5.0752867   5.0752867   1.8008581   3.62931878\n",
            "  9.44274744  2.44464574  4.6483878 ]\n",
            "Коэффициенты: [0.03653784 0.00018629 0.        ]\n",
            "Средняя квадратичная ошибка (MSE): 11.61\n"
          ]
        }
      ]
    },
    {
      "cell_type": "code",
      "source": [
        "# x = np.array([2.0 , 2.4, 1.5, 3.5, 3.5, 3.5, 3.5, 3.7, 3.7])\n",
        "# y = np.array([196, 221, 136, 255, 244, 230, 232, 255, 267])\n",
        "\n",
        "# lr = LinearRegression()\n",
        "# lr.fit(x.reshape(-1, 1), y)\n",
        "\n",
        "# print(lr.predict([[2.4]]))"
      ],
      "metadata": {
        "id": "q2ZKJBPeuhm7"
      },
      "execution_count": null,
      "outputs": []
    },
    {
      "cell_type": "code",
      "source": [
        "# plt.figure(figsize = (11,5))\n",
        "# # 1 строка, 2 колонки, 1 график\n",
        "# plt.subplot(1, 2, 1)\n",
        "# plt.scatter(x = y_train, y = y_pred_train, c = \"#7CAE00\", alpha = 0.3)\n",
        "# # Добавляем разделяющую поверхность (линию) на график\n",
        "# z = np.polyfit(y_train, y_pred_train, 1)\n",
        "# p = np.poly1d(z)\n",
        "# plt.plot(y_test, p(y_test), \"#F8766D\")\n",
        "# plt.ylabel('Предсказанный')\n",
        "# plt.xlabel('Экспериментальный')\n",
        "# # 1 строка, 2 колонки, 2 графика\n",
        "# plt.subplot(1, 2, 2)\n",
        "# plt.scatter(x = y_test, y = y_pred_test, c = \"#619CFF\", alpha = 0.3)\n",
        "# z = np.polyfit(y_test, y_pred_test, 1)\n",
        "# p = np.poly1d(z)\n",
        "# plt.plot(y_test, p(y_test), \"#F8766D\")\n",
        "# plt.xlabel('Экспериментальный LogS')\n",
        "# plt.show()"
      ],
      "metadata": {
        "id": "znEbkMSUur5E"
      },
      "execution_count": null,
      "outputs": []
    }
  ]
}